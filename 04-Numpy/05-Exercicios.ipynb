{
 "cells": [
  {
   "cell_type": "markdown",
   "metadata": {},
   "source": [
    "## Exercício 1\n",
    "\n",
    "Você é um gerente de vendas e tem os dados de vendas de um produto para os últimos 7 dias em uma lista: `[127, 90, 201, 150, 210, 220, 115]`. Calcule a média de vendas durante a semana."
   ]
  },
  {
   "cell_type": "code",
   "execution_count": 1,
   "metadata": {
    "collapsed": false,
    "jupyter": {
     "outputs_hidden": false
    }
   },
   "outputs": [
    {
     "name": "stdout",
     "output_type": "stream",
     "text": [
      "159.0\n"
     ]
    }
   ],
   "source": [
    "import numpy as np\n",
    "\n",
    "dados = [127, 90, 201, 150, 210, 220, 115]\n",
    "\n",
    "print(np.mean(dados))"
   ]
  },
  {
   "cell_type": "markdown",
   "metadata": {},
   "source": [
    "## Exercício 2\n",
    "\n",
    "Você é um analista financeiro e tem os preços de fechamento diário de uma ação para a última semana em um array NumPy: `precos = np.array([31.40, 31.25, 30.95, 31.20, 31.60, 31.50])`. Calcule o preço máximo, mínimo e a variação de preço durante a semana."
   ]
  },
  {
   "cell_type": "code",
   "execution_count": 3,
   "metadata": {
    "collapsed": false,
    "jupyter": {
     "outputs_hidden": false
    }
   },
   "outputs": [
    {
     "name": "stdout",
     "output_type": "stream",
     "text": [
      "Max: 31.60, Min: 30.95 e Variação: 0.65\n"
     ]
    }
   ],
   "source": [
    "import numpy as np\n",
    "\n",
    "precos = np.array([31.40, 31.25, 30.95, 31.20, 31.60, 31.50])\n",
    "print(f\"Máx: {np.max(precos):.2f}, Min: {np.min(precos):.2f} e Variação: {np.max(precos) - np.min(precos):.2f}\")\n"
   ]
  },
  {
   "cell_type": "markdown",
   "metadata": {},
   "source": [
    "## Exercício 3\n",
    "\n",
    "Sua loja vendeu em um dia 5 unidades do *Produto A*, 3 unidades do *Produto B* e 2 unidades do *Produto C*. Os preços dos produtos são, respectivamente, 100, 200 e 50 reais. Calcule o total de vendas do dia."
   ]
  },
  {
   "cell_type": "code",
   "execution_count": 8,
   "metadata": {},
   "outputs": [
    {
     "name": "stdout",
     "output_type": "stream",
     "text": [
      "Todal de vendas do dia: R$1.200,00\n"
     ]
    }
   ],
   "source": [
    "import numpy as np\n",
    "\n",
    "quantidades = np.array([5, 3, 2])\n",
    "precos = np.array([100, 200, 50])\n",
    "\n",
    "print(f\"Todal de vendas do dia: R${np.dot(quantidades, precos):_.2f}\".replace(\".\", \",\").replace(\"_\", \".\"))\n"
   ]
  }
 ],
 "metadata": {
  "kernelspec": {
   "display_name": "Python 3",
   "language": "python",
   "name": "python3"
  },
  "language_info": {
   "codemirror_mode": {
    "name": "ipython",
    "version": 3
   },
   "file_extension": ".py",
   "mimetype": "text/x-python",
   "name": "python",
   "nbconvert_exporter": "python",
   "pygments_lexer": "ipython3",
   "version": "3.12.8"
  }
 },
 "nbformat": 4,
 "nbformat_minor": 4
}
