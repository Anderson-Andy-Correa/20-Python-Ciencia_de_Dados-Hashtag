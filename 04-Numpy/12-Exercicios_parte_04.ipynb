{
 "cells": [
  {
   "cell_type": "markdown",
   "metadata": {},
   "source": [
    "## Exercício\n",
    "\n",
    "Você é um gerente de vendas e tem os dados de vendas de três produtos diferentes (Produto A, Produto B, Produto C) para os últimos 5 dias em um array 2D NumPy. Cada linha do array representa um produto e cada coluna representa um dia. Seu trabalho é calcular as vendas totais para cada produto e para cada dia.\n",
    "\n",
    "Use o seguinte array para sua análise:\n",
    "\n",
    "```python\n",
    "vendas = np.array([[50, 60, 70, 65, 80],\n",
    "                   [85, 90, 78, 92, 88],\n",
    "                   [72, 75, 68, 77, 76]])\n",
    "```\n",
    "\n",
    "**Solução:**\n"
   ]
  },
  {
   "cell_type": "code",
   "execution_count": 9,
   "metadata": {
    "ExecuteTime": {
     "end_time": "2023-07-03T12:12:12.700234800Z",
     "start_time": "2023-07-03T12:12:12.677347900Z"
    },
    "collapsed": false,
    "jupyter": {
     "outputs_hidden": false
    }
   },
   "outputs": [
    {
     "name": "stdout",
     "output_type": "stream",
     "text": [
      "1º dia: 207 unidades de produtos\n",
      "2º dia: 225 unidades de produtos\n",
      "3º dia: 216 unidades de produtos\n",
      "4º dia: 234 unidades de produtos\n",
      "5º dia: 244 unidades de produtos\n",
      "--------------------------------------------------\n",
      "Produto A: 325 unidades deurante a semana\n",
      "Produto B: 433 unidades deurante a semana\n",
      "Produto C: 368 unidades deurante a semana\n",
      "--------------------------------------------------\n"
     ]
    }
   ],
   "source": [
    "import numpy as np\n",
    "from string import ascii_uppercase\n",
    "\n",
    "vendas = np.array([[50, 60, 70, 65, 80],\n",
    "                   [85, 90, 78, 92, 88],\n",
    "                   [72, 75, 68, 77, 76]])\n",
    "\n",
    "\n",
    "vendas_por_dia = np.sum(vendas, axis=0)\n",
    "vendas_por_produto = np.sum(vendas, axis=1)\n",
    "\n",
    "for pos, venda in enumerate(vendas_por_dia, 1):\n",
    "    print(f\"{pos}º dia: {venda} unidades de produtos\")\n",
    "\n",
    "print(\"-\" * 50)\n",
    "\n",
    "for pos, produto in enumerate(vendas_por_produto):\n",
    "    print(f\"Produto {ascii_uppercase[pos]}: {produto} unidades deurante a semana\")\n",
    "\n",
    "print(\"-\" * 50)\n"
   ]
  }
 ],
 "metadata": {
  "kernelspec": {
   "display_name": "Python 3",
   "language": "python",
   "name": "python3"
  },
  "language_info": {
   "codemirror_mode": {
    "name": "ipython",
    "version": 3
   },
   "file_extension": ".py",
   "mimetype": "text/x-python",
   "name": "python",
   "nbconvert_exporter": "python",
   "pygments_lexer": "ipython3",
   "version": "3.12.8"
  }
 },
 "nbformat": 4,
 "nbformat_minor": 4
}
