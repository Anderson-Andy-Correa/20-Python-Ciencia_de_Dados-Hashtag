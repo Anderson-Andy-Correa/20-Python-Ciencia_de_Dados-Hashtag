{
 "cells": [
  {
   "cell_type": "markdown",
   "metadata": {},
   "source": [
    "## Exercício\n",
    "\n",
    "Você é um analista de RH e tem os salários de todos os funcionários da sua empresa em um array NumPy. Seu trabalho é identificar quantos funcionários ganham acima da média. Use o seguinte array para sua análise: `salarios = np.array([3000, 2500, 3500, 4000, 2000, 4500, 3000, 3800, 4800])`."
   ]
  },
  {
   "cell_type": "code",
   "execution_count": 1,
   "metadata": {
    "ExecuteTime": {
     "end_time": "2023-07-03T17:58:55.261401600Z",
     "start_time": "2023-07-03T17:58:55.249755Z"
    },
    "collapsed": false,
    "jupyter": {
     "outputs_hidden": false
    }
   },
   "outputs": [
    {
     "name": "stdout",
     "output_type": "stream",
     "text": [
      "3528.866666666667\n",
      "[4167 3833 4404 3953 4732 4060 4131 4009 4201 4352 4595 4189 3803 4304]\n",
      "14 funcionáliros com salários acima da média de R$3_528.87\n"
     ]
    }
   ],
   "source": [
    "import numpy as np\n",
    "\n",
    "rng = np.random.default_rng(seed=42)\n",
    "\n",
    "salarios = rng.integers(low=2000, high=4800, size=30, endpoint=True)\n",
    "media_salarial = np.mean(salarios)\n",
    "print(media_salarial)\n",
    "logica_salario_acima_media = salarios > media_salarial\n",
    "\n",
    "salarios_acima_media = np.where(logica_salario_acima_media)\n",
    "print(salarios[salarios_acima_media])\n",
    "print(f\"{np.sum(logica_salario_acima_media)} funcionáliros com salários acima da média de R${media_salarial:_.2f}\")"
   ]
  },
  {
   "cell_type": "code",
   "execution_count": 2,
   "metadata": {},
   "outputs": [
    {
     "name": "stdout",
     "output_type": "stream",
     "text": [
      "14\n"
     ]
    }
   ],
   "source": [
    "print(np.count_nonzero(logica_salario_acima_media))"
   ]
  },
  {
   "cell_type": "code",
   "execution_count": 3,
   "metadata": {},
   "outputs": [
    {
     "name": "stdout",
     "output_type": "stream",
     "text": [
      "[False  True]\n",
      "[16 14]\n"
     ]
    }
   ],
   "source": [
    "print(np.unique(logica_salario_acima_media))\n",
    "valores_unicos, contagem = np.unique(logica_salario_acima_media, return_counts=True)\n",
    "print(contagem)"
   ]
  }
 ],
 "metadata": {
  "kernelspec": {
   "display_name": "Python 3",
   "language": "python",
   "name": "python3"
  },
  "language_info": {
   "codemirror_mode": {
    "name": "ipython",
    "version": 3
   },
   "file_extension": ".py",
   "mimetype": "text/x-python",
   "name": "python",
   "nbconvert_exporter": "python",
   "pygments_lexer": "ipython3",
   "version": "3.12.8"
  }
 },
 "nbformat": 4,
 "nbformat_minor": 4
}
