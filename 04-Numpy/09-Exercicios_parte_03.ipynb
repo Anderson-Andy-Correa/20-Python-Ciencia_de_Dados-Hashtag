{
 "cells": [
  {
   "cell_type": "markdown",
   "metadata": {},
   "source": [
    "## Exercício\n",
    "\n",
    "Você é um engenheiro de produção e tem os tempos de ciclo (em minutos) de uma linha de produção em um array NumPy. Seu trabalho é identificar quaisquer tempos de ciclo que estão dois desvios padrão acima ou abaixo da média. Use o seguinte array para sua análise: `tempos_ciclo = np.array([5.5, 5.7, 5.9, 6.0, 5.8, 5.6, 5.7, 7.2, 4.8])`. "
   ]
  },
  {
   "cell_type": "code",
   "execution_count": 1,
   "metadata": {
    "ExecuteTime": {
     "end_time": "2023-07-03T12:12:12.700234800Z",
     "start_time": "2023-07-03T12:12:12.644925Z"
    },
    "collapsed": false,
    "jupyter": {
     "outputs_hidden": false
    }
   },
   "outputs": [
    {
     "name": "stdout",
     "output_type": "stream",
     "text": [
      "Tempos de ciclo: 6.7, 5.9, 6.9, 6.5, 5.0, 7.1, 6.6, 6.7, 5.1\n",
      "media = 6.28, desvio_padrao = 0.73, faixa ~= 7.7 e 4.8\n",
      "Tempos de ciclo fora da faixa: \n"
     ]
    }
   ],
   "source": [
    "import numpy as np\n",
    "\n",
    "rng = np.random.default_rng(seed=42)\n",
    "\n",
    "tempos_ciclo_padrao = np.array([5.5, 5.7, 5.9, 6.0, 5.8, 5.6, 5.7, 7.2, 4.8])\n",
    "maximo = np.max(tempos_ciclo_padrao)\n",
    "minimo = np.min(tempos_ciclo_padrao)\n",
    "qtd_desvios_fora_padrao = 2\n",
    "\n",
    "tempos_ciclo = np.round(rng.uniform(low=minimo, high=maximo, size=9), 1)\n",
    "media = np.mean(tempos_ciclo) \n",
    "desvio_padrao = np.std(tempos_ciclo)\n",
    "print(\"Tempos de ciclo: \", end=\"\")\n",
    "print(*tempos_ciclo, sep=\", \")\n",
    "\n",
    "faixa_alta = media + qtd_desvios_fora_padrao * desvio_padrao\n",
    "faixa_baixa = media - qtd_desvios_fora_padrao * desvio_padrao\n",
    "print(f\"{media = :.2f}, {desvio_padrao = :.2f}, faixa ~= {round(faixa_alta, 1)} e {round(faixa_baixa, 1)}\")\n",
    "\n",
    "tempos_fora_da_faixa = tempos_ciclo[(tempos_ciclo > faixa_alta) | (tempos_ciclo < faixa_baixa)]\n",
    "print(\"Tempos de ciclo fora da faixa: \", end=\"\")\n",
    "print(*tempos_fora_da_faixa, sep=\", \")\n",
    "\n"
   ]
  },
  {
   "cell_type": "code",
   "execution_count": 2,
   "metadata": {},
   "outputs": [
    {
     "name": "stdout",
     "output_type": "stream",
     "text": [
      "Condição normal:\t[]\n",
      "Condição inversa:\t[6.7 5.9 6.9 6.5 5.  7.1 6.6 6.7 5.1]\n"
     ]
    }
   ],
   "source": [
    "# Contra condição\n",
    "condicao_nomal = (tempos_ciclo > faixa_alta) | (tempos_ciclo < faixa_baixa)\n",
    "print(f\"Condição normal:\\t{tempos_ciclo[condicao_nomal]}\")\n",
    "contra_condicao = ~condicao_nomal\n",
    "print(f\"Condição inversa:\\t{tempos_ciclo[contra_condicao]}\")"
   ]
  },
  {
   "cell_type": "code",
   "execution_count": 3,
   "metadata": {},
   "outputs": [
    {
     "name": "stdout",
     "output_type": "stream",
     "text": [
      "[6.36897968 6.18195185 6.7423261  6.35386999 5.88921515 6.54007077\n",
      " 7.22367036 6.96476921 5.76730392 5.35986923 5.82566837 6.30775472\n",
      " 4.59125225 6.11907118 5.37402173 5.74660735 5.88298444 6.04834069\n",
      " 6.5763654  7.03399375 6.1845416  7.26897994 5.79526038 6.53275535\n",
      " 6.93313492 6.3459722  5.73845999 5.60917872 5.94575366 6.43750241\n",
      " 5.54542324 6.12604648 6.1622795  6.67009512 6.43348672 6.53555722\n",
      " 5.80350507 6.18375894 6.84645612 7.36107946 5.36447969 7.37594436\n",
      " 7.25404583 6.84452366 6.469608   6.05006516 7.3353935  7.69970549\n",
      " 7.58464358 7.23172475 6.53701357 5.40129036 6.27454685 6.75397007\n",
      " 5.34322907 6.56439052 6.58959133 6.78267166 5.41884498 5.79779347\n",
      " 5.96119737 5.42922953 7.53947649 5.91805518 6.51640502 6.09021501\n",
      " 7.42639373 7.23553822 6.73719766 4.6794008  6.31551844 6.77370851\n",
      " 7.00602914 5.82956177 7.59942423 5.31996657 5.79792009 6.95604221\n",
      " 6.3133609  7.73026875 6.4145254  5.81847289 6.00390162 5.48628469\n",
      " 5.35097705 6.73506423 6.69934251 7.21682191 5.73040355 7.50301869\n",
      " 6.06931314 7.41981847 5.96384457 5.74427458 6.45896652 7.02597087\n",
      " 6.39457054 5.85304821 5.30488688 5.26114624]\n"
     ]
    }
   ],
   "source": [
    "rng = np.random.default_rng(seed=0)\n",
    "tempos_gerados = rng.normal(loc=media, scale=desvio_padrao, size=100)\n",
    "print(tempos_gerados)"
   ]
  },
  {
   "cell_type": "code",
   "execution_count": 4,
   "metadata": {},
   "outputs": [
    {
     "name": "stdout",
     "output_type": "stream",
     "text": [
      "6.277777777777778\n",
      "6.336603512560019\n"
     ]
    }
   ],
   "source": [
    "print(media)\n",
    "print(tempos_gerados.mean())"
   ]
  },
  {
   "cell_type": "code",
   "execution_count": 5,
   "metadata": {},
   "outputs": [
    {
     "name": "stdout",
     "output_type": "stream",
     "text": [
      "(array([12, 69], dtype=int64),)\n",
      "[4.59125225 4.6794008 ]\n"
     ]
    }
   ],
   "source": [
    "condicao = (tempos_gerados > tempos_gerados.mean() + qtd_desvios_fora_padrao * tempos_gerados.std()) | (tempos_gerados < tempos_gerados.mean() - qtd_desvios_fora_padrao * tempos_gerados.std())\n",
    "print(np.where(condicao))\n",
    "print(tempos_gerados[condicao])"
   ]
  }
 ],
 "metadata": {
  "kernelspec": {
   "display_name": "Python 3",
   "language": "python",
   "name": "python3"
  },
  "language_info": {
   "codemirror_mode": {
    "name": "ipython",
    "version": 3
   },
   "file_extension": ".py",
   "mimetype": "text/x-python",
   "name": "python",
   "nbconvert_exporter": "python",
   "pygments_lexer": "ipython3",
   "version": "3.12.8"
  }
 },
 "nbformat": 4,
 "nbformat_minor": 4
}
