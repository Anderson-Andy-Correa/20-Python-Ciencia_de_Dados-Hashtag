{
 "cells": [
  {
   "cell_type": "markdown",
   "metadata": {},
   "source": [
    "# Pandas básico"
   ]
  },
  {
   "cell_type": "code",
   "execution_count": 1,
   "metadata": {},
   "outputs": [
    {
     "data": {
      "text/html": [
       "<div>\n",
       "<style scoped>\n",
       "    .dataframe tbody tr th:only-of-type {\n",
       "        vertical-align: middle;\n",
       "    }\n",
       "\n",
       "    .dataframe tbody tr th {\n",
       "        vertical-align: top;\n",
       "    }\n",
       "\n",
       "    .dataframe thead th {\n",
       "        text-align: right;\n",
       "    }\n",
       "</style>\n",
       "<table border=\"1\" class=\"dataframe\">\n",
       "  <thead>\n",
       "    <tr style=\"text-align: right;\">\n",
       "      <th></th>\n",
       "      <th>name</th>\n",
       "      <th>mfr</th>\n",
       "      <th>type</th>\n",
       "      <th>calories</th>\n",
       "      <th>protein</th>\n",
       "      <th>fat</th>\n",
       "      <th>sodium</th>\n",
       "      <th>fiber</th>\n",
       "      <th>carbo</th>\n",
       "      <th>sugars</th>\n",
       "      <th>potass</th>\n",
       "      <th>vitamins</th>\n",
       "      <th>shelf</th>\n",
       "      <th>weight</th>\n",
       "      <th>cups</th>\n",
       "      <th>rating</th>\n",
       "    </tr>\n",
       "  </thead>\n",
       "  <tbody>\n",
       "    <tr>\n",
       "      <th>0</th>\n",
       "      <td>100% Bran</td>\n",
       "      <td>N</td>\n",
       "      <td>C</td>\n",
       "      <td>70</td>\n",
       "      <td>4</td>\n",
       "      <td>1</td>\n",
       "      <td>130</td>\n",
       "      <td>10.0</td>\n",
       "      <td>5.0</td>\n",
       "      <td>6</td>\n",
       "      <td>280</td>\n",
       "      <td>25</td>\n",
       "      <td>3</td>\n",
       "      <td>1.0</td>\n",
       "      <td>0.33</td>\n",
       "      <td>68.402973</td>\n",
       "    </tr>\n",
       "    <tr>\n",
       "      <th>1</th>\n",
       "      <td>100% Natural Bran</td>\n",
       "      <td>Q</td>\n",
       "      <td>C</td>\n",
       "      <td>120</td>\n",
       "      <td>3</td>\n",
       "      <td>5</td>\n",
       "      <td>15</td>\n",
       "      <td>2.0</td>\n",
       "      <td>8.0</td>\n",
       "      <td>8</td>\n",
       "      <td>135</td>\n",
       "      <td>0</td>\n",
       "      <td>3</td>\n",
       "      <td>1.0</td>\n",
       "      <td>1.00</td>\n",
       "      <td>33.983679</td>\n",
       "    </tr>\n",
       "    <tr>\n",
       "      <th>2</th>\n",
       "      <td>All-Bran</td>\n",
       "      <td>K</td>\n",
       "      <td>C</td>\n",
       "      <td>70</td>\n",
       "      <td>4</td>\n",
       "      <td>1</td>\n",
       "      <td>260</td>\n",
       "      <td>9.0</td>\n",
       "      <td>7.0</td>\n",
       "      <td>5</td>\n",
       "      <td>320</td>\n",
       "      <td>25</td>\n",
       "      <td>3</td>\n",
       "      <td>1.0</td>\n",
       "      <td>0.33</td>\n",
       "      <td>59.425505</td>\n",
       "    </tr>\n",
       "    <tr>\n",
       "      <th>3</th>\n",
       "      <td>All-Bran with Extra Fiber</td>\n",
       "      <td>K</td>\n",
       "      <td>C</td>\n",
       "      <td>50</td>\n",
       "      <td>4</td>\n",
       "      <td>0</td>\n",
       "      <td>140</td>\n",
       "      <td>14.0</td>\n",
       "      <td>8.0</td>\n",
       "      <td>0</td>\n",
       "      <td>330</td>\n",
       "      <td>25</td>\n",
       "      <td>3</td>\n",
       "      <td>1.0</td>\n",
       "      <td>0.50</td>\n",
       "      <td>93.704912</td>\n",
       "    </tr>\n",
       "    <tr>\n",
       "      <th>4</th>\n",
       "      <td>Almond Delight</td>\n",
       "      <td>R</td>\n",
       "      <td>C</td>\n",
       "      <td>110</td>\n",
       "      <td>2</td>\n",
       "      <td>2</td>\n",
       "      <td>200</td>\n",
       "      <td>1.0</td>\n",
       "      <td>14.0</td>\n",
       "      <td>8</td>\n",
       "      <td>-1</td>\n",
       "      <td>25</td>\n",
       "      <td>3</td>\n",
       "      <td>1.0</td>\n",
       "      <td>0.75</td>\n",
       "      <td>34.384843</td>\n",
       "    </tr>\n",
       "  </tbody>\n",
       "</table>\n",
       "</div>"
      ],
      "text/plain": [
       "                        name mfr type  calories  protein  fat  sodium  fiber  \\\n",
       "0                  100% Bran   N    C        70        4    1     130   10.0   \n",
       "1          100% Natural Bran   Q    C       120        3    5      15    2.0   \n",
       "2                   All-Bran   K    C        70        4    1     260    9.0   \n",
       "3  All-Bran with Extra Fiber   K    C        50        4    0     140   14.0   \n",
       "4             Almond Delight   R    C       110        2    2     200    1.0   \n",
       "\n",
       "   carbo  sugars  potass  vitamins  shelf  weight  cups     rating  \n",
       "0    5.0       6     280        25      3     1.0  0.33  68.402973  \n",
       "1    8.0       8     135         0      3     1.0  1.00  33.983679  \n",
       "2    7.0       5     320        25      3     1.0  0.33  59.425505  \n",
       "3    8.0       0     330        25      3     1.0  0.50  93.704912  \n",
       "4   14.0       8      -1        25      3     1.0  0.75  34.384843  "
      ]
     },
     "execution_count": 1,
     "metadata": {},
     "output_type": "execute_result"
    }
   ],
   "source": [
    "import pandas as pd\n",
    "\n",
    "BASE = r\"./dados/cereal.csv\"\n",
    "\n",
    "df = pd.read_csv(BASE)\n",
    "\n",
    "df.head()"
   ]
  },
  {
   "cell_type": "code",
   "execution_count": 2,
   "metadata": {},
   "outputs": [
    {
     "data": {
      "text/plain": [
       "name        77\n",
       "mfr          7\n",
       "type         2\n",
       "calories    11\n",
       "protein      6\n",
       "fat          5\n",
       "sodium      27\n",
       "fiber       13\n",
       "carbo       22\n",
       "sugars      17\n",
       "potass      36\n",
       "vitamins     3\n",
       "shelf        3\n",
       "weight       7\n",
       "cups        12\n",
       "rating      77\n",
       "dtype: int64"
      ]
     },
     "execution_count": 2,
     "metadata": {},
     "output_type": "execute_result"
    }
   ],
   "source": [
    "df.nunique()"
   ]
  },
  {
   "cell_type": "code",
   "execution_count": 3,
   "metadata": {},
   "outputs": [
    {
     "data": {
      "text/plain": [
       "mfr\n",
       "K    23\n",
       "G    22\n",
       "P     9\n",
       "Q     8\n",
       "R     8\n",
       "N     6\n",
       "A     1\n",
       "Name: count, dtype: int64"
      ]
     },
     "execution_count": 3,
     "metadata": {},
     "output_type": "execute_result"
    }
   ],
   "source": [
    "df[\"mfr\"].value_counts()"
   ]
  },
  {
   "cell_type": "code",
   "execution_count": 4,
   "metadata": {},
   "outputs": [
    {
     "data": {
      "text/plain": [
       "(33.175, 40.741]                22\n",
       "(25.609, 33.175]                14\n",
       "(48.308, 55.874]                12\n",
       "(40.741, 48.308]                11\n",
       "(17.965999999999998, 25.609]     6\n",
       "(55.874, 63.44]                  6\n",
       "(63.44, 71.006]                  3\n",
       "(71.006, 78.572]                 2\n",
       "(86.139, 93.705]                 1\n",
       "(78.572, 86.139]                 0\n",
       "Name: count, dtype: int64"
      ]
     },
     "execution_count": 4,
     "metadata": {},
     "output_type": "execute_result"
    }
   ],
   "source": [
    "df[\"rating\"].value_counts(bins=10)"
   ]
  },
  {
   "cell_type": "code",
   "execution_count": 5,
   "metadata": {},
   "outputs": [
    {
     "data": {
      "text/plain": [
       "(17.965999999999998, 25.609]     6\n",
       "(25.609, 33.175]                14\n",
       "(33.175, 40.741]                22\n",
       "(40.741, 48.308]                11\n",
       "(48.308, 55.874]                12\n",
       "(55.874, 63.44]                  6\n",
       "(63.44, 71.006]                  3\n",
       "(71.006, 78.572]                 2\n",
       "(78.572, 86.139]                 0\n",
       "(86.139, 93.705]                 1\n",
       "Name: count, dtype: int64"
      ]
     },
     "execution_count": 5,
     "metadata": {},
     "output_type": "execute_result"
    }
   ],
   "source": [
    "df[\"rating\"].value_counts(bins=10).sort_index()"
   ]
  },
  {
   "cell_type": "code",
   "execution_count": 6,
   "metadata": {},
   "outputs": [
    {
     "data": {
      "text/plain": [
       "(17.965999999999998, 25.609]    0.077922\n",
       "(25.609, 33.175]                0.181818\n",
       "(33.175, 40.741]                0.285714\n",
       "(40.741, 48.308]                0.142857\n",
       "(48.308, 55.874]                0.155844\n",
       "(55.874, 63.44]                 0.077922\n",
       "(63.44, 71.006]                 0.038961\n",
       "(71.006, 78.572]                0.025974\n",
       "(78.572, 86.139]                0.000000\n",
       "(86.139, 93.705]                0.012987\n",
       "Name: proportion, dtype: float64"
      ]
     },
     "execution_count": 6,
     "metadata": {},
     "output_type": "execute_result"
    }
   ],
   "source": [
    "df[\"rating\"].value_counts(bins=10, normalize=True).sort_index()"
   ]
  },
  {
   "cell_type": "code",
   "execution_count": 7,
   "metadata": {},
   "outputs": [
    {
     "data": {
      "text/html": [
       "<style type=\"text/css\">\n",
       "</style>\n",
       "<table id=\"T_d875e\">\n",
       "  <thead>\n",
       "    <tr>\n",
       "      <th id=\"T_d875e_level0_col0\" class=\"col_heading level0 col0\" >Faixa</th>\n",
       "      <th id=\"T_d875e_level0_col1\" class=\"col_heading level0 col1\" >Proporção</th>\n",
       "    </tr>\n",
       "  </thead>\n",
       "  <tbody>\n",
       "    <tr>\n",
       "      <td id=\"T_d875e_row0_col0\" class=\"data row0 col0\" >(17.965999999999998, 25.609]</td>\n",
       "      <td id=\"T_d875e_row0_col1\" class=\"data row0 col1\" >7,79%</td>\n",
       "    </tr>\n",
       "    <tr>\n",
       "      <td id=\"T_d875e_row1_col0\" class=\"data row1 col0\" >(25.609, 33.175]</td>\n",
       "      <td id=\"T_d875e_row1_col1\" class=\"data row1 col1\" >18,18%</td>\n",
       "    </tr>\n",
       "    <tr>\n",
       "      <td id=\"T_d875e_row2_col0\" class=\"data row2 col0\" >(33.175, 40.741]</td>\n",
       "      <td id=\"T_d875e_row2_col1\" class=\"data row2 col1\" >28,57%</td>\n",
       "    </tr>\n",
       "    <tr>\n",
       "      <td id=\"T_d875e_row3_col0\" class=\"data row3 col0\" >(40.741, 48.308]</td>\n",
       "      <td id=\"T_d875e_row3_col1\" class=\"data row3 col1\" >14,29%</td>\n",
       "    </tr>\n",
       "    <tr>\n",
       "      <td id=\"T_d875e_row4_col0\" class=\"data row4 col0\" >(48.308, 55.874]</td>\n",
       "      <td id=\"T_d875e_row4_col1\" class=\"data row4 col1\" >15,58%</td>\n",
       "    </tr>\n",
       "    <tr>\n",
       "      <td id=\"T_d875e_row5_col0\" class=\"data row5 col0\" >(55.874, 63.44]</td>\n",
       "      <td id=\"T_d875e_row5_col1\" class=\"data row5 col1\" >7,79%</td>\n",
       "    </tr>\n",
       "    <tr>\n",
       "      <td id=\"T_d875e_row6_col0\" class=\"data row6 col0\" >(63.44, 71.006]</td>\n",
       "      <td id=\"T_d875e_row6_col1\" class=\"data row6 col1\" >3,90%</td>\n",
       "    </tr>\n",
       "    <tr>\n",
       "      <td id=\"T_d875e_row7_col0\" class=\"data row7 col0\" >(71.006, 78.572]</td>\n",
       "      <td id=\"T_d875e_row7_col1\" class=\"data row7 col1\" >2,60%</td>\n",
       "    </tr>\n",
       "    <tr>\n",
       "      <td id=\"T_d875e_row8_col0\" class=\"data row8 col0\" >(78.572, 86.139]</td>\n",
       "      <td id=\"T_d875e_row8_col1\" class=\"data row8 col1\" >0,00%</td>\n",
       "    </tr>\n",
       "    <tr>\n",
       "      <td id=\"T_d875e_row9_col0\" class=\"data row9 col0\" >(86.139, 93.705]</td>\n",
       "      <td id=\"T_d875e_row9_col1\" class=\"data row9 col1\" >1,30%</td>\n",
       "    </tr>\n",
       "  </tbody>\n",
       "</table>\n"
      ],
      "text/plain": [
       "<pandas.io.formats.style.Styler at 0x16ed16a0260>"
      ]
     },
     "execution_count": 7,
     "metadata": {},
     "output_type": "execute_result"
    }
   ],
   "source": [
    "df[\"rating\"].value_counts(bins=10, normalize=True).sort_index() \\\n",
    "    .to_frame().reset_index().rename(columns={\"index\": \"Faixa\", \"proportion\": \"Proporção\"}) \\\n",
    "        .style.hide(axis=\"index\").format({\"Proporção\": \"{:.2%}\"}, decimal=\",\", thousands=\".\",)"
   ]
  }
 ],
 "metadata": {
  "kernelspec": {
   "display_name": "Python 3",
   "language": "python",
   "name": "python3"
  },
  "language_info": {
   "codemirror_mode": {
    "name": "ipython",
    "version": 3
   },
   "file_extension": ".py",
   "mimetype": "text/x-python",
   "name": "python",
   "nbconvert_exporter": "python",
   "pygments_lexer": "ipython3",
   "version": "3.12.8"
  }
 },
 "nbformat": 4,
 "nbformat_minor": 2
}
